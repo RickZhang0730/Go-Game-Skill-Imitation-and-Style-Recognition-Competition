{
 "cells": [
  {
   "cell_type": "code",
   "execution_count": 33,
   "id": "c0fb2beb",
   "metadata": {},
   "outputs": [],
   "source": [
    "import tensorflow as tf\n",
    "from tensorflow.keras.models import load_model\n",
    "import numpy as np"
   ]
  },
  {
   "cell_type": "code",
   "execution_count": 34,
   "id": "8a8268cf",
   "metadata": {},
   "outputs": [
    {
     "data": {
      "text/plain": [
       "'2.15.0'"
      ]
     },
     "execution_count": 34,
     "metadata": {},
     "output_type": "execute_result"
    }
   ],
   "source": [
    "tf.__version__"
   ]
  },
  {
   "cell_type": "markdown",
   "id": "a5f31674",
   "metadata": {},
   "source": [
    "# Create a Submission File \n",
    "\n",
    "The submitted file must include all the predictions from Dan, Kyu, and Play Style testing CSVs. Therefore, you must train your models before submitting any file. If your model is not trained for Dan, Kyu, or Play Style, check out the previous tutorials about how to train your model or just simply use the baseline models (model_dan_tutorial.h5, model_kyu_tutorial.h5, model_playstyle.h5) \n",
    "\n",
    "**PublicUpload.csv** must be in the following form:\n",
    "```\n",
    "DTPU0000000001,id,qr,pq,pd,ab\n",
    "DTPU0000000002,ao,ab,ha,ff,qd\n",
    "DTPU0000000003,qd,gd,fh,ed,fa\n",
    "DTPU0000000004,pr,ba,dq,hh,aj\n",
    "DTPU0000000005,ph,jh,af,df,gj\n",
    ".\n",
    ".\n",
    ".\n",
    "KTPU0000000001,id,qr,pq,pd,ab\n",
    "KTPU0000000002,ao,ab,ha,ff,qd\n",
    "KTPU0000000003,qd,gd,fh,ed,fa\n",
    "KTPU0000000004,pr,ba,dq,hh,aj\n",
    "KTPU0000000005,ph,jh,af,df,gj\n",
    ".\n",
    ".\n",
    ".\n",
    "PSTPU0000000001_79,2\n",
    "PSTPU0000000001_55,3\n",
    "PSTPU0000000001_105,2\n",
    "PSTPU0000000002_37,1\n",
    "PSTPU0000000002_113,3\n",
    "```\n",
    "\n",
    "**For Dan and Kyu:**\n",
    "- Column 1: Game ID\n",
    "- Column 2: Predicted Moves, up to 5 predictions for each game\n",
    "\n",
    "**For PlayStyle**:\n",
    "- Column 1: Game ID\n",
    "- Column 2: Predicted Game Style"
   ]
  },
  {
   "cell_type": "markdown",
   "id": "8ddba101",
   "metadata": {},
   "source": [
    "The code block below is copied from the tutorial notebooks and it includes the pre-processing methods of the trained models. You might need to change the functions below with respect to your models."
   ]
  },
  {
   "cell_type": "code",
   "execution_count": 35,
   "id": "f2643011",
   "metadata": {},
   "outputs": [],
   "source": [
    "chars = 'abcdefghijklmnopqrs'\n",
    "coordinates = {k:v for v,k in enumerate(chars)}\n",
    "chartonumbers = {k:v for k,v in enumerate(chars)}\n",
    "\n",
    "def prepare_input_for_dan_kyu_models(moves):\n",
    "    x = np.zeros((19,19,4))\n",
    "    for move in moves:\n",
    "        color = move[0]\n",
    "        column = coordinates[move[2]]\n",
    "        row = coordinates[move[3]]\n",
    "        if color == 'B':\n",
    "            x[row,column,0] = 1\n",
    "            x[row,column,2] = 1\n",
    "        if color == 'W':\n",
    "            x[row,column,1] = 1\n",
    "            x[row,column,2] = 1\n",
    "    if moves:\n",
    "        last_move_column = coordinates[moves[-1][2]]\n",
    "        last_move_row = coordinates[moves[-1][3]]\n",
    "        x[row,column,3] = 1\n",
    "    x[:,:,2] = np.where(x[:,:,2] == 0, 1, 0)\n",
    "    return x\n",
    "\n",
    "def prepare_input_for_playstyle_model(moves):\n",
    "    x = np.zeros((19,19,13))\n",
    "    for move in moves:\n",
    "        color = move[0]\n",
    "        column = coordinates[move[2]]\n",
    "        row = coordinates[move[3]]\n",
    "        x[row,column,0] = 1\n",
    "    if moves:\n",
    "        last_move_column = coordinates[moves[-1][2]]\n",
    "        last_move_row = coordinates[moves[-1][3]]\n",
    "        x[row,column,1] = 1\n",
    "    return x\n",
    "\n",
    "def number_to_char(number):\n",
    "    number_1, number_2 = divmod(number, 19)\n",
    "    return chartonumbers[number_1] + chartonumbers[number_2]\n",
    "\n",
    "def top_5_preds_with_chars(predictions):\n",
    "    resulting_preds_numbers = [np.flip(np.argpartition(prediction, -5)[-5:]) for prediction in predictions]\n",
    "    resulting_preds_chars = np.vectorize(number_to_char)(resulting_preds_numbers)\n",
    "    return resulting_preds_chars"
   ]
  },
  {
   "cell_type": "markdown",
   "id": "5ac5558f",
   "metadata": {},
   "source": [
    "## Save Predictions for Dan\n",
    "The code block below is to use **dan model** to predict and save the results in required form. It generates the best 5 predictions for each sample and convert them to character coordinates."
   ]
  },
  {
   "cell_type": "code",
   "execution_count": 36,
   "id": "1a7d526a",
   "metadata": {},
   "outputs": [
    {
     "name": "stdout",
     "output_type": "stream",
     "text": [
      "344/344 [==============================] - 1s 3ms/step\n"
     ]
    }
   ],
   "source": [
    "# Load your own model. Here we use the baseline model\n",
    "model = load_model('./model_dan_tutorial.h5')\n",
    "\n",
    "# Load the corresponding dataset\n",
    "df = open('/home/ttsai/AIcupTutorial-main/29_Public Testing Dataset_v2/dan_test_public.csv').read().splitlines()\n",
    "games_id = [i.split(',',2)[0] for i in df]\n",
    "games = [i.split(',',2)[-1] for i in df]\n",
    "\n",
    "x_testing = []\n",
    "\n",
    "for game in games:\n",
    "    moves_list = game.split(',')\n",
    "    x_testing.append(prepare_input_for_dan_kyu_models(moves_list))\n",
    "\n",
    "x_testing = np.array(x_testing)\n",
    "predictions = model.predict(x_testing)\n",
    "prediction_chars = top_5_preds_with_chars(predictions)\n",
    "\n",
    "# Save results to public_submission_template.csv\n",
    "with open('public_private_submission_template_2.csv','a') as f:\n",
    "    for index in range(len(prediction_chars)):\n",
    "        answer_row = games_id[index] + ',' + ','.join(prediction_chars[index]) + '\\n'\n",
    "        f.write(answer_row)"
   ]
  },
  {
   "cell_type": "code",
   "execution_count": 39,
   "metadata": {},
   "outputs": [
    {
     "name": "stdout",
     "output_type": "stream",
     "text": [
      "344/344 [==============================] - 1s 4ms/step\n"
     ]
    }
   ],
   "source": [
    "# Load your own model. Here we use the baseline model\n",
    "model = load_model('./model_dan_tutorial.h5')\n",
    "\n",
    "# Load the corresponding dataset\n",
    "df = open('/home/ttsai/AIcupTutorial-main/29_Private Testing Dataset_v2/dan_test_private.csv').read().splitlines()\n",
    "games_id = [i.split(',',2)[0] for i in df]\n",
    "games = [i.split(',',2)[-1] for i in df]\n",
    "\n",
    "x_testing = []\n",
    "\n",
    "for game in games:\n",
    "    moves_list = game.split(',')\n",
    "    x_testing.append(prepare_input_for_dan_kyu_models(moves_list))\n",
    "\n",
    "x_testing = np.array(x_testing)\n",
    "predictions = model.predict(x_testing)\n",
    "prediction_chars = top_5_preds_with_chars(predictions)\n",
    "\n",
    "# Save results to public_submission_template.csv\n",
    "with open('public_private_submission_template_2.csv','a') as f:\n",
    "    for index in range(len(prediction_chars)):\n",
    "        answer_row = games_id[index] + ',' + ','.join(prediction_chars[index]) + '\\n'\n",
    "        f.write(answer_row)"
   ]
  },
  {
   "cell_type": "markdown",
   "id": "89a967ad",
   "metadata": {},
   "source": [
    "## Save Predictions for Kyu\n",
    "The same code block applies to Kyu by changing the model and dataset"
   ]
  },
  {
   "cell_type": "code",
   "execution_count": 37,
   "id": "40d5d90b",
   "metadata": {},
   "outputs": [
    {
     "name": "stdout",
     "output_type": "stream",
     "text": [
      "355/355 [==============================] - 4s 10ms/step\n"
     ]
    }
   ],
   "source": [
    "# Load your own model. Here we use the baseline model\n",
    "model = load_model('./model_kyu_tutorial.h5')\n",
    "\n",
    "# Load the corresponding dataset\n",
    "df = open('/home/ttsai/AIcupTutorial-main/29_Public Testing Dataset_v2/kyu_test_public.csv').read().splitlines()\n",
    "games_id = [i.split(',',2)[0] for i in df]\n",
    "games = [i.split(',',2)[-1] for i in df]\n",
    "\n",
    "x_testing = []\n",
    "\n",
    "for game in games:\n",
    "    moves_list = game.split(',')\n",
    "    x_testing.append(prepare_input_for_dan_kyu_models(moves_list))\n",
    "\n",
    "x_testing = np.array(x_testing)\n",
    "predictions = model.predict(x_testing)\n",
    "prediction_chars = top_5_preds_with_chars(predictions)\n",
    "\n",
    "# Save results to public_submission_template.csv\n",
    "with open('public_private_submission_template_2.csv','a') as f:\n",
    "    for index in range(len(prediction_chars)):\n",
    "        answer_row = games_id[index] + ',' + ','.join(prediction_chars[index]) + '\\n'\n",
    "        f.write(answer_row)"
   ]
  },
  {
   "cell_type": "code",
   "execution_count": 40,
   "metadata": {},
   "outputs": [
    {
     "name": "stdout",
     "output_type": "stream",
     "text": [
      "355/355 [==============================] - 4s 10ms/step\n"
     ]
    }
   ],
   "source": [
    "# Load your own model. Here we use the baseline model\n",
    "model = load_model('./model_kyu_tutorial.h5')\n",
    "\n",
    "# Load the corresponding dataset\n",
    "df = open('/home/ttsai/AIcupTutorial-main/29_Private Testing Dataset_v2/kyu_test_private.csv').read().splitlines()\n",
    "games_id = [i.split(',',2)[0] for i in df]\n",
    "games = [i.split(',',2)[-1] for i in df]\n",
    "\n",
    "x_testing = []\n",
    "\n",
    "for game in games:\n",
    "    moves_list = game.split(',')\n",
    "    x_testing.append(prepare_input_for_dan_kyu_models(moves_list))\n",
    "\n",
    "x_testing = np.array(x_testing)\n",
    "predictions = model.predict(x_testing)\n",
    "prediction_chars = top_5_preds_with_chars(predictions)\n",
    "\n",
    "# Save results to public_submission_template.csv\n",
    "with open('public_private_submission_template_2.csv','a') as f:\n",
    "    for index in range(len(prediction_chars)):\n",
    "        answer_row = games_id[index] + ',' + ','.join(prediction_chars[index]) + '\\n'\n",
    "        f.write(answer_row)"
   ]
  },
  {
   "cell_type": "markdown",
   "id": "981b80b8",
   "metadata": {},
   "source": [
    "## Save Predictions for PlayStyle\n",
    "Playstyle requires only one predictions so the code here is a simple version of above"
   ]
  },
  {
   "cell_type": "code",
   "execution_count": 38,
   "id": "6bcef09c",
   "metadata": {},
   "outputs": [
    {
     "name": "stdout",
     "output_type": "stream",
     "text": [
      "313/313 [==============================] - 0s 1ms/step\n"
     ]
    }
   ],
   "source": [
    "# Load your own model. Here we use the baseline model\n",
    "model = load_model('./model_playstyle_2.h5')\n",
    "\n",
    "# Load the corresponding dataset\n",
    "df = open('/home/ttsai/AIcupTutorial-main/29_Public Testing Dataset_v2/play_style_test_public.csv').read().splitlines()\n",
    "games_id = [i.split(',',2)[0] for i in df]\n",
    "games = [i.split(',',2)[-1] for i in df]\n",
    "\n",
    "x_testing = []\n",
    "\n",
    "for game in games:\n",
    "    moves_list = game.split(',')\n",
    "    x_testing.append(prepare_input_for_playstyle_model(moves_list))\n",
    "\n",
    "x_testing = np.array(x_testing)\n",
    "predictions = model.predict(x_testing)\n",
    "prediction_numbers = np.argmax(predictions, axis=1)\n",
    "\n",
    "with open('public_private_submission_template_2.csv','a') as f:\n",
    "    for index, number in enumerate(prediction_numbers):\n",
    "        answer_row = games_id[index] + ',' + str(number+1) + '\\n'\n",
    "        f.write(answer_row)"
   ]
  },
  {
   "cell_type": "code",
   "execution_count": 41,
   "metadata": {},
   "outputs": [
    {
     "name": "stdout",
     "output_type": "stream",
     "text": [
      "313/313 [==============================] - 0s 1ms/step\n"
     ]
    }
   ],
   "source": [
    "# Load your own model. Here we use the baseline model\n",
    "model = load_model('./model_playstyle_2.h5')\n",
    "\n",
    "# Load the corresponding dataset\n",
    "df = open('/home/ttsai/AIcupTutorial-main/29_Private Testing Dataset_v2/play_style_test_private.csv').read().splitlines()\n",
    "games_id = [i.split(',',2)[0] for i in df]\n",
    "games = [i.split(',',2)[-1] for i in df]\n",
    "\n",
    "x_testing = []\n",
    "\n",
    "for game in games:\n",
    "    moves_list = list(filter(lambda x: x != \"\", moves_list))\n",
    "    x_testing.append(prepare_input_for_playstyle_model(moves_list))\n",
    "\n",
    "x_testing = np.array(x_testing)\n",
    "predictions = model.predict(x_testing)\n",
    "prediction_numbers = np.argmax(predictions, axis=1)\n",
    "\n",
    "with open('public_private_submission_template_2.csv','a') as f:\n",
    "    for index, number in enumerate(prediction_numbers):\n",
    "        answer_row = games_id[index] + ',' + str(number+1) + '\\n'\n",
    "        f.write(answer_row)"
   ]
  },
  {
   "cell_type": "markdown",
   "id": "4652c93a",
   "metadata": {},
   "source": [
    "Now you can upload your file from the competition website! (https://tbrain.trendmicro.com.tw/Competitions/Details/29)"
   ]
  },
  {
   "cell_type": "code",
   "execution_count": null,
   "id": "9e49bf6d",
   "metadata": {},
   "outputs": [],
   "source": []
  }
 ],
 "metadata": {
  "kernelspec": {
   "display_name": "Python 3 (ipykernel)",
   "language": "python",
   "name": "python3"
  },
  "language_info": {
   "codemirror_mode": {
    "name": "ipython",
    "version": 3
   },
   "file_extension": ".py",
   "mimetype": "text/x-python",
   "name": "python",
   "nbconvert_exporter": "python",
   "pygments_lexer": "ipython3",
   "version": "3.11.4"
  }
 },
 "nbformat": 4,
 "nbformat_minor": 5
}
