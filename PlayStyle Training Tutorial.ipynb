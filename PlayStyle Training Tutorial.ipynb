{
 "cells": [
  {
   "cell_type": "code",
   "execution_count": 2,
   "id": "bd5077d3",
   "metadata": {},
   "outputs": [],
   "source": [
    "from sklearn.model_selection import KFold\n",
    "import numpy as np\n",
    "from tensorflow.keras.models import Sequential\n",
    "from tensorflow.keras.layers import Conv2D, Dropout, Flatten, Dense,Input,BatchNormalization, Activation,MaxPooling2D\n",
    "from tensorflow.keras.optimizers import RMSprop,Adam,SGD\n",
    "from tensorflow.keras.regularizers import l2,l1\n",
    "import tensorflow as tf\n",
    "from sklearn.model_selection import train_test_split\n",
    "from tensorflow.keras.models import Sequential\n",
    "from tensorflow.keras.layers import Add\n",
    "from tensorflow.keras.models import Model\n",
    "from tensorflow.keras.preprocessing.image import ImageDataGenerator\n"
   ]
  },
  {
   "cell_type": "code",
   "execution_count": 3,
   "id": "4d54d124",
   "metadata": {},
   "outputs": [
    {
     "data": {
      "text/plain": [
       "'2.4.0'"
      ]
     },
     "execution_count": 3,
     "metadata": {},
     "output_type": "execute_result"
    }
   ],
   "source": [
    "tf.__version__"
   ]
  },
  {
   "cell_type": "markdown",
   "id": "5666d92a",
   "metadata": {},
   "source": [
    "# Data Pre-Processing\n",
    "\n",
    "Open **play_style_train.csv** file and split the games into a list.\n",
    "Every row of csv: `PSL0000000001,1,B[pd],W[dp],B[qp],W[dc],B[nq],W[nc],B[qf],W[kd],B[ce],W[dg],B[dd],W[cc],B[fd],W[ed],B[ee],W[ec],B[ge],W[gc],B[di]`. \n",
    "\n",
    "Columns are:\n",
    "\n",
    "    1. PSL0000000001: Game ID\n",
    "    2. 1: Game Style\n",
    "    3-... : Moves, the last move represents the play style (B[di] in this case)\n",
    "    \n",
    "We cropped only the moves to game list as:"
   ]
  },
  {
   "cell_type": "code",
   "execution_count": 4,
   "id": "e4b559ec",
   "metadata": {},
   "outputs": [],
   "source": [
    "df = open('/home/ttsai/AIcupTutorial-main/Training Dataset/play_style_train.csv').read().splitlines()\n",
    "games = [i.split(',',2)[-1] for i in df]\n",
    "game_styles = [int(i.split(',',2)[-2]) for i in df]\n"
   ]
  },
  {
   "cell_type": "markdown",
   "id": "89f64af3",
   "metadata": {},
   "source": [
    "Create a dictionary to convert the coordinates from characters to numbers"
   ]
  },
  {
   "cell_type": "code",
   "execution_count": 5,
   "id": "3b52349a",
   "metadata": {},
   "outputs": [
    {
     "data": {
      "text/plain": [
       "{'a': 0,\n",
       " 'b': 1,\n",
       " 'c': 2,\n",
       " 'd': 3,\n",
       " 'e': 4,\n",
       " 'f': 5,\n",
       " 'g': 6,\n",
       " 'h': 7,\n",
       " 'i': 8,\n",
       " 'j': 9,\n",
       " 'k': 10,\n",
       " 'l': 11,\n",
       " 'm': 12,\n",
       " 'n': 13,\n",
       " 'o': 14,\n",
       " 'p': 15,\n",
       " 'q': 16,\n",
       " 'r': 17,\n",
       " 's': 18}"
      ]
     },
     "execution_count": 5,
     "metadata": {},
     "output_type": "execute_result"
    }
   ],
   "source": [
    "chars = 'abcdefghijklmnopqrs'\n",
    "coordinates = {k:v for v,k in enumerate(chars)}\n",
    "coordinates"
   ]
  },
  {
   "cell_type": "markdown",
   "id": "e3429687",
   "metadata": {},
   "source": [
    "We decided to build a DCNN model in this tutorial. We create data samples by using every move in every game, meaning that the target is to predict the next move by feeding the previous state of the table in every game for every move. Therefore, we can collect much more data samples from games.\n",
    "\n",
    "For the simplicity, we used 2 dimensional feature map to represent the data as below:\n",
    " 1. Occupied areas: mark them as 1 and the empty places as 0\n",
    " 2. The last move in the table: mark the position of the last move as 1 and the rest as 0\n",
    " \n",
    "The target is to predict the game style (1, 2 or 3) from the state of the game table. Later this will be one-hot encoded."
   ]
  },
  {
   "cell_type": "code",
   "execution_count": null,
   "metadata": {},
   "outputs": [],
   "source": [
    "def prepare_input(moves):\n",
    "    x = np.zeros((19,19,2))\n",
    "    for move in moves:\n",
    "        color = move[0]\n",
    "        column = coordinates[move[2]]\n",
    "        row = coordinates[move[3]]\n",
    "        x[row,column,0] = 1\n",
    "    if moves:\n",
    "        last_move_column = coordinates[moves[-1][2]]\n",
    "        last_move_row = coordinates[moves[-1][3]]\n",
    "        x[row,column,1] = 1\n",
    "    return x"
   ]
  },
  {
   "cell_type": "code",
   "execution_count": 6,
   "metadata": {},
   "outputs": [],
   "source": [
    "def generate_custom_features(ownermap):\n",
    "    features = []\n",
    "\n",
    "    # 特徵1：白棋位置\n",
    "    white_features = np.zeros((19, 19))\n",
    "    white_features[ownermap == 'O'] = 1\n",
    "    features.append(white_features)\n",
    "\n",
    "    # 特徵2：黑棋位置\n",
    "    black_features = np.zeros((19, 19))\n",
    "    black_features[ownermap == 'X'] = 1\n",
    "    features.append(black_features)\n",
    "\n",
    "    # 特徵3：所有棋子位置\n",
    "    occupied_features = np.zeros((19, 19))\n",
    "    occupied_features[(ownermap == 'O') | (ownermap == 'X')] = 1\n",
    "    features.append(occupied_features)\n",
    "\n",
    "    # 特徵4：黑棋下一步可能被包圍的位置\n",
    "    # 需要你的邏輯來判斷\n",
    "    # 這裡使用示例來標記可能被包圍的位置\n",
    "    black_surrounded = np.zeros((19, 19))\n",
    "    black_surrounded[1, 3] = 1\n",
    "    features.append(black_surrounded)\n",
    "\n",
    "    # 特徵5：白棋下一步可能被包圍的位置\n",
    "    # 需要你的邏輯來判斷\n",
    "    # 這裡使用示例來標記可能被包圍的位置\n",
    "    white_surrounded = np.zeros((19, 19))\n",
    "    white_surrounded[2, 2] = 1\n",
    "    features.append(white_surrounded)\n",
    "\n",
    "    return np.array(features)\n",
    "# 添加連線特徵\n",
    "def check_lines(ownermap):\n",
    "    # 假設連線特徵包括水平、垂直和對角線方向的連線\n",
    "    connected_lines = np.zeros((19, 19))\n",
    "\n",
    "    # 檢查水平連線\n",
    "    for i in range(19):\n",
    "        for j in range(16):\n",
    "            if ownermap[i, j] == ownermap[i, j + 1] == ownermap[i, j + 2]:\n",
    "                connected_lines[i, j] = connected_lines[i, j + 1] = connected_lines[i, j + 2] = 1\n",
    "\n",
    "    # 檢查垂直連線\n",
    "    for i in range(16):\n",
    "        for j in range(19):\n",
    "            if ownermap[i, j] == ownermap[i + 1, j] == ownermap[i + 2, j]:\n",
    "                connected_lines[i, j] = connected_lines[i + 1, j] = connected_lines[i + 2, j] = 1\n",
    "\n",
    "    # 檢查對角線（往右上角）\n",
    "    for i in range(16):\n",
    "        for j in range(16):\n",
    "            if ownermap[i, j] == ownermap[i + 1, j + 1] == ownermap[i + 2, j + 2]:\n",
    "                connected_lines[i, j] = connected_lines[i + 1, j + 1] = connected_lines[i + 2, j + 2] = 1\n",
    "\n",
    "    # 檢查對角線（往右下角）\n",
    "    for i in range(3, 19):\n",
    "        for j in range(16):\n",
    "            if ownermap[i, j] == ownermap[i - 1, j + 1] == ownermap[i - 2, j + 2]:\n",
    "                connected_lines[i, j] = connected_lines[i - 1, j + 1] = connected_lines[i - 2, j + 2] = 1\n",
    "\n",
    "    return connected_lines\n",
    "\n",
    "# 添加可能的攻擊或防守位置\n",
    "def evaluate_positions(ownermap):\n",
    "    # 假設這裡的策略是找到敵方下一步可能落子的位置作為攻擊，並找到自己下一步可能落子的位置作為防守\n",
    "    possible_attacks = np.zeros((19, 19))\n",
    "    possible_defenses = np.zeros((19, 19))\n",
    "\n",
    "    for i in range(19):\n",
    "        for j in range(19):\n",
    "            if ownermap[i, j] == 0:\n",
    "                # 模擬在這個位置下一步敵方落子後的局勢\n",
    "                temp_ownermap = np.copy(ownermap)\n",
    "                temp_ownermap[i, j] = 2  # 假設對手為白色\n",
    "                # 假設這個位置下一步能夠形成連線\n",
    "                if np.any(check_lines(temp_ownermap)):\n",
    "                    possible_attacks[i, j] = 1\n",
    "\n",
    "                # 模擬在這個位置下一步自己落子後的局勢\n",
    "                temp_ownermap = np.copy(ownermap)\n",
    "                temp_ownermap[i, j] = 1  # 假設自己為黑色\n",
    "                # 假設這個位置下一步能夠形成連線\n",
    "                if np.any(check_lines(temp_ownermap)):\n",
    "                    possible_defenses[i, j] = 1\n",
    "\n",
    "    return possible_attacks, possible_defenses\n",
    "\n"
   ]
  },
  {
   "cell_type": "code",
   "execution_count": 8,
   "metadata": {},
   "outputs": [],
   "source": [
    "def prepare_input(moves, ownermap):\n",
    "    x = np.zeros((19, 19, 8))  # 加入新的特徵通道\n",
    "\n",
    "    for move in moves:\n",
    "        color = move[0]\n",
    "        column = coordinates[move[2]]\n",
    "        row = coordinates[move[3]]\n",
    "        x[row, column, 0] = 1  # 第一個通道保留原有的特徵\n",
    "\n",
    "        # 更新 ownermap\n",
    "        ownermap[row][column] = 1 if color == 'B' else 2\n",
    "\n",
    "    # 加入特徵根到第三個通道\n",
    "    for i in range(19):\n",
    "        for j in range(19):\n",
    "            if ownermap[i][j] == 1:\n",
    "                x[i, j, 2] = 1  # 黑子的特徵根\n",
    "            elif ownermap[i][j] == 2:\n",
    "                x[i, j, 3] = 1  # 白子的特徵根\n",
    "\n",
    "    if moves:\n",
    "        last_move_column = coordinates[moves[-1][2]]\n",
    "        last_move_row = coordinates[moves[-1][3]]\n",
    "        x[last_move_row, last_move_column, 1] = 1  # 最後一步的特徵\n",
    "\n",
    "        # 調用 generate_custom_features 函數並加入到 x 中\n",
    "        new_features = generate_custom_features(ownermap)\n",
    "        for i in range(5):  # 假設生成了5個新特徵\n",
    "            x[:, :, 3 + i] = new_features[i]\n",
    "\n",
    "    return x\n"
   ]
  },
  {
   "cell_type": "code",
   "execution_count": 10,
   "metadata": {},
   "outputs": [],
   "source": [
    "def prepare_input(moves, ownermap):\n",
    "    x = np.zeros((19, 19, 13))  # 增加新的特徵通道數至 13\n",
    "\n",
    "    for move in moves:\n",
    "        color = move[0]\n",
    "        column = coordinates[move[2]]\n",
    "        row = coordinates[move[3]]\n",
    "        x[row, column, 0] = 1  # 第一個通道保留原有的特徵\n",
    "\n",
    "        # 更新 ownermap\n",
    "        ownermap[row][column] = 1 if color == 'B' else 2\n",
    "\n",
    "    # 加入特徵根到第三個通道\n",
    "    for i in range(19):\n",
    "        for j in range(19):\n",
    "            if ownermap[i][j] == 1:\n",
    "                x[i, j, 2] = 1  # 黑子的特徵根\n",
    "            elif ownermap[i][j] == 2:\n",
    "                x[i, j, 3] = 1  # 白子的特徵根\n",
    "\n",
    "    if moves:\n",
    "        last_move_column = coordinates[moves[-1][2]]\n",
    "        last_move_row = coordinates[moves[-1][3]]\n",
    "        x[last_move_row, last_move_column, 1] = 1  # 最後一步的特徵\n",
    "\n",
    "        # 調用 generate_custom_features 函數並加入到 x 中\n",
    "        new_features = generate_custom_features(ownermap)\n",
    "        \n",
    "        # 將新特徵依序添加到 x 中\n",
    "        for i in range(5):  # 假設生成了5個新特徵\n",
    "            x[:, :, 4 + i] = new_features[i]\n",
    "\n",
    "        # 添加連線、攻擊和防守特徵\n",
    "        connected_lines = check_lines(ownermap)\n",
    "        possible_attacks, possible_defenses = evaluate_positions(ownermap)\n",
    "        \n",
    "        x[:, :, 9] = connected_lines  # 連線特徵\n",
    "        x[:, :, 10] = possible_attacks  # 攻擊特徵\n",
    "        x[:, :, 11] = possible_defenses  # 防守特徵\n",
    "\n",
    "    return x\n"
   ]
  },
  {
   "cell_type": "code",
   "execution_count": 11,
   "id": "a1a544a9",
   "metadata": {},
   "outputs": [
    {
     "name": "stdout",
     "output_type": "stream",
     "text": [
      "Total Games: 26615\n"
     ]
    }
   ],
   "source": [
    "# Check how many samples can be obtained\n",
    "n_games = 0\n",
    "for game in games:\n",
    "    n_games += 1\n",
    "print(f\"Total Games: {n_games}\")"
   ]
  },
  {
   "cell_type": "markdown",
   "id": "fe30773a",
   "metadata": {},
   "source": [
    "Since play style training has smaller dataset comparing to kyu or dan training, we can put the complete dataset to memory. Still, it is better to create a data generator."
   ]
  },
  {
   "cell_type": "code",
   "execution_count": 6,
   "id": "40cce4cb",
   "metadata": {},
   "outputs": [],
   "source": [
    "x = []\n",
    "for game in games:\n",
    "    moves_list = game.split(',')\n",
    "    x.append(prepare_input(moves_list))\n",
    "x = np.array(x)\n",
    "y = np.array(game_styles)-1"
   ]
  },
  {
   "cell_type": "code",
   "execution_count": 12,
   "metadata": {},
   "outputs": [
    {
     "name": "stderr",
     "output_type": "stream",
     "text": [
      "/tmp/ipykernel_62016/1982268569.py:6: FutureWarning: elementwise comparison failed; returning scalar instead, but in the future will perform elementwise comparison\n",
      "  white_features[ownermap == 'O'] = 1\n",
      "/tmp/ipykernel_62016/1982268569.py:11: FutureWarning: elementwise comparison failed; returning scalar instead, but in the future will perform elementwise comparison\n",
      "  black_features[ownermap == 'X'] = 1\n",
      "/tmp/ipykernel_62016/1982268569.py:16: FutureWarning: elementwise comparison failed; returning scalar instead, but in the future will perform elementwise comparison\n",
      "  occupied_features[(ownermap == 'O') | (ownermap == 'X')] = 1\n"
     ]
    }
   ],
   "source": [
    "x = []\n",
    "y = []\n",
    "ownermap = np.zeros((19, 19))  # 初始化 ownermap\n",
    "for game, style in zip(games, game_styles):\n",
    "    moves_list = game.split(',')\n",
    "    x.append(prepare_input(moves_list, ownermap))\n",
    "    # 基於遊戲類型來生成標籤\n",
    "    # 在這裡，假設game_styles中的數字1, 2, 3分別對應標籤0, 1, 2\n",
    "    y.append(style - 1)\n",
    "\n",
    "x = np.array(x)\n",
    "y = np.array(y)\n"
   ]
  },
  {
   "cell_type": "code",
   "execution_count": 13,
   "id": "74d9b37d",
   "metadata": {},
   "outputs": [
    {
     "data": {
      "text/plain": [
       "(26615, 19, 19, 13)"
      ]
     },
     "execution_count": 13,
     "metadata": {},
     "output_type": "execute_result"
    }
   ],
   "source": [
    "x.shape"
   ]
  },
  {
   "cell_type": "code",
   "execution_count": 14,
   "id": "0ad8b3fb",
   "metadata": {},
   "outputs": [
    {
     "data": {
      "text/plain": [
       "(26615,)"
      ]
     },
     "execution_count": 14,
     "metadata": {},
     "output_type": "execute_result"
    }
   ],
   "source": [
    "y.shape"
   ]
  },
  {
   "cell_type": "code",
   "execution_count": 15,
   "id": "7f20561a",
   "metadata": {},
   "outputs": [
    {
     "data": {
      "text/plain": [
       "array([8184, 9403, 9028])"
      ]
     },
     "execution_count": 15,
     "metadata": {},
     "output_type": "execute_result"
    }
   ],
   "source": [
    "np.bincount(y)"
   ]
  },
  {
   "cell_type": "code",
   "execution_count": 16,
   "id": "54f30621",
   "metadata": {},
   "outputs": [
    {
     "name": "stderr",
     "output_type": "stream",
     "text": [
      "2023-11-28 21:19:23.609507: I tensorflow/compiler/jit/xla_cpu_device.cc:41] Not creating XLA devices, tf_xla_enable_xla_devices not set\n",
      "2023-11-28 21:19:23.609993: I tensorflow/stream_executor/platform/default/dso_loader.cc:49] Successfully opened dynamic library libcuda.so.1\n",
      "2023-11-28 21:19:23.612804: I tensorflow/stream_executor/cuda/cuda_gpu_executor.cc:941] successful NUMA node read from SysFS had negative value (-1), but there must be at least one NUMA node, so returning NUMA node zero\n",
      "2023-11-28 21:19:23.612884: I tensorflow/core/common_runtime/gpu/gpu_device.cc:1720] Found device 0 with properties: \n",
      "pciBusID: 0000:01:00.0 name: NVIDIA GeForce RTX 3060 computeCapability: 8.6\n",
      "coreClock: 1.837GHz coreCount: 28 deviceMemorySize: 11.74GiB deviceMemoryBandwidth: 335.32GiB/s\n",
      "2023-11-28 21:19:23.612908: I tensorflow/stream_executor/cuda/cuda_gpu_executor.cc:941] successful NUMA node read from SysFS had negative value (-1), but there must be at least one NUMA node, so returning NUMA node zero\n",
      "2023-11-28 21:19:23.612961: I tensorflow/core/common_runtime/gpu/gpu_device.cc:1720] Found device 1 with properties: \n",
      "pciBusID: 0000:04:00.0 name: NVIDIA GeForce RTX 3060 computeCapability: 8.6\n",
      "coreClock: 1.837GHz coreCount: 28 deviceMemorySize: 11.76GiB deviceMemoryBandwidth: 335.32GiB/s\n",
      "2023-11-28 21:19:23.612972: I tensorflow/stream_executor/platform/default/dso_loader.cc:49] Successfully opened dynamic library libcudart.so.11.0\n",
      "2023-11-28 21:19:23.613980: I tensorflow/stream_executor/platform/default/dso_loader.cc:49] Successfully opened dynamic library libcublas.so.11\n",
      "2023-11-28 21:19:23.614020: I tensorflow/stream_executor/platform/default/dso_loader.cc:49] Successfully opened dynamic library libcublasLt.so.11\n",
      "2023-11-28 21:19:23.614458: I tensorflow/stream_executor/platform/default/dso_loader.cc:49] Successfully opened dynamic library libcufft.so.10\n",
      "2023-11-28 21:19:23.614580: I tensorflow/stream_executor/platform/default/dso_loader.cc:49] Successfully opened dynamic library libcurand.so.10\n",
      "2023-11-28 21:19:23.615513: I tensorflow/stream_executor/platform/default/dso_loader.cc:49] Successfully opened dynamic library libcusolver.so.10\n",
      "2023-11-28 21:19:23.615732: I tensorflow/stream_executor/platform/default/dso_loader.cc:49] Successfully opened dynamic library libcusparse.so.11\n",
      "2023-11-28 21:19:23.615811: I tensorflow/stream_executor/platform/default/dso_loader.cc:49] Successfully opened dynamic library libcudnn.so.8\n",
      "2023-11-28 21:19:23.615861: I tensorflow/stream_executor/cuda/cuda_gpu_executor.cc:941] successful NUMA node read from SysFS had negative value (-1), but there must be at least one NUMA node, so returning NUMA node zero\n",
      "2023-11-28 21:19:23.615947: I tensorflow/stream_executor/cuda/cuda_gpu_executor.cc:941] successful NUMA node read from SysFS had negative value (-1), but there must be at least one NUMA node, so returning NUMA node zero\n",
      "2023-11-28 21:19:23.616006: I tensorflow/stream_executor/cuda/cuda_gpu_executor.cc:941] successful NUMA node read from SysFS had negative value (-1), but there must be at least one NUMA node, so returning NUMA node zero\n",
      "2023-11-28 21:19:23.616064: I tensorflow/stream_executor/cuda/cuda_gpu_executor.cc:941] successful NUMA node read from SysFS had negative value (-1), but there must be at least one NUMA node, so returning NUMA node zero\n",
      "2023-11-28 21:19:23.616109: I tensorflow/core/common_runtime/gpu/gpu_device.cc:1862] Adding visible gpu devices: 0, 1\n",
      "2023-11-28 21:19:23.617612: I tensorflow/compiler/jit/xla_gpu_device.cc:99] Not creating XLA devices, tf_xla_enable_xla_devices not set\n",
      "2023-11-28 21:19:23.697235: I tensorflow/stream_executor/cuda/cuda_gpu_executor.cc:941] successful NUMA node read from SysFS had negative value (-1), but there must be at least one NUMA node, so returning NUMA node zero\n",
      "2023-11-28 21:19:23.697313: I tensorflow/core/common_runtime/gpu/gpu_device.cc:1720] Found device 0 with properties: \n",
      "pciBusID: 0000:01:00.0 name: NVIDIA GeForce RTX 3060 computeCapability: 8.6\n",
      "coreClock: 1.837GHz coreCount: 28 deviceMemorySize: 11.74GiB deviceMemoryBandwidth: 335.32GiB/s\n",
      "2023-11-28 21:19:23.697348: I tensorflow/stream_executor/cuda/cuda_gpu_executor.cc:941] successful NUMA node read from SysFS had negative value (-1), but there must be at least one NUMA node, so returning NUMA node zero\n",
      "2023-11-28 21:19:23.697396: I tensorflow/core/common_runtime/gpu/gpu_device.cc:1720] Found device 1 with properties: \n",
      "pciBusID: 0000:04:00.0 name: NVIDIA GeForce RTX 3060 computeCapability: 8.6\n",
      "coreClock: 1.837GHz coreCount: 28 deviceMemorySize: 11.76GiB deviceMemoryBandwidth: 335.32GiB/s\n",
      "2023-11-28 21:19:23.697413: I tensorflow/stream_executor/platform/default/dso_loader.cc:49] Successfully opened dynamic library libcudart.so.11.0\n",
      "2023-11-28 21:19:23.697421: I tensorflow/stream_executor/platform/default/dso_loader.cc:49] Successfully opened dynamic library libcublas.so.11\n",
      "2023-11-28 21:19:23.697427: I tensorflow/stream_executor/platform/default/dso_loader.cc:49] Successfully opened dynamic library libcublasLt.so.11\n",
      "2023-11-28 21:19:23.697432: I tensorflow/stream_executor/platform/default/dso_loader.cc:49] Successfully opened dynamic library libcufft.so.10\n",
      "2023-11-28 21:19:23.697437: I tensorflow/stream_executor/platform/default/dso_loader.cc:49] Successfully opened dynamic library libcurand.so.10\n",
      "2023-11-28 21:19:23.697442: I tensorflow/stream_executor/platform/default/dso_loader.cc:49] Successfully opened dynamic library libcusolver.so.10\n",
      "2023-11-28 21:19:23.697447: I tensorflow/stream_executor/platform/default/dso_loader.cc:49] Successfully opened dynamic library libcusparse.so.11\n",
      "2023-11-28 21:19:23.697452: I tensorflow/stream_executor/platform/default/dso_loader.cc:49] Successfully opened dynamic library libcudnn.so.8\n",
      "2023-11-28 21:19:23.697472: I tensorflow/stream_executor/cuda/cuda_gpu_executor.cc:941] successful NUMA node read from SysFS had negative value (-1), but there must be at least one NUMA node, so returning NUMA node zero\n",
      "2023-11-28 21:19:23.697528: I tensorflow/stream_executor/cuda/cuda_gpu_executor.cc:941] successful NUMA node read from SysFS had negative value (-1), but there must be at least one NUMA node, so returning NUMA node zero\n",
      "2023-11-28 21:19:23.697581: I tensorflow/stream_executor/cuda/cuda_gpu_executor.cc:941] successful NUMA node read from SysFS had negative value (-1), but there must be at least one NUMA node, so returning NUMA node zero\n",
      "2023-11-28 21:19:23.697635: I tensorflow/stream_executor/cuda/cuda_gpu_executor.cc:941] successful NUMA node read from SysFS had negative value (-1), but there must be at least one NUMA node, so returning NUMA node zero\n",
      "2023-11-28 21:19:23.697680: I tensorflow/core/common_runtime/gpu/gpu_device.cc:1862] Adding visible gpu devices: 0, 1\n",
      "2023-11-28 21:19:23.697694: I tensorflow/stream_executor/platform/default/dso_loader.cc:49] Successfully opened dynamic library libcudart.so.11.0\n",
      "2023-11-28 21:19:23.999788: I tensorflow/core/common_runtime/gpu/gpu_device.cc:1261] Device interconnect StreamExecutor with strength 1 edge matrix:\n",
      "2023-11-28 21:19:23.999810: I tensorflow/core/common_runtime/gpu/gpu_device.cc:1267]      0 1 \n",
      "2023-11-28 21:19:23.999814: I tensorflow/core/common_runtime/gpu/gpu_device.cc:1280] 0:   N N \n",
      "2023-11-28 21:19:23.999816: I tensorflow/core/common_runtime/gpu/gpu_device.cc:1280] 1:   N N \n",
      "2023-11-28 21:19:23.999969: I tensorflow/stream_executor/cuda/cuda_gpu_executor.cc:941] successful NUMA node read from SysFS had negative value (-1), but there must be at least one NUMA node, so returning NUMA node zero\n",
      "2023-11-28 21:19:24.000061: I tensorflow/stream_executor/cuda/cuda_gpu_executor.cc:941] successful NUMA node read from SysFS had negative value (-1), but there must be at least one NUMA node, so returning NUMA node zero\n",
      "2023-11-28 21:19:24.000123: I tensorflow/stream_executor/cuda/cuda_gpu_executor.cc:941] successful NUMA node read from SysFS had negative value (-1), but there must be at least one NUMA node, so returning NUMA node zero\n",
      "2023-11-28 21:19:24.000180: I tensorflow/stream_executor/cuda/cuda_gpu_executor.cc:941] successful NUMA node read from SysFS had negative value (-1), but there must be at least one NUMA node, so returning NUMA node zero\n",
      "2023-11-28 21:19:24.000239: I tensorflow/core/common_runtime/gpu/gpu_device.cc:1406] Created TensorFlow device (/job:localhost/replica:0/task:0/device:GPU:0 with 10289 MB memory) -> physical GPU (device: 0, name: NVIDIA GeForce RTX 3060, pci bus id: 0000:01:00.0, compute capability: 8.6)\n",
      "2023-11-28 21:19:24.000617: I tensorflow/stream_executor/cuda/cuda_gpu_executor.cc:941] successful NUMA node read from SysFS had negative value (-1), but there must be at least one NUMA node, so returning NUMA node zero\n",
      "2023-11-28 21:19:24.000682: I tensorflow/stream_executor/cuda/cuda_gpu_executor.cc:941] successful NUMA node read from SysFS had negative value (-1), but there must be at least one NUMA node, so returning NUMA node zero\n",
      "2023-11-28 21:19:24.000731: I tensorflow/core/common_runtime/gpu/gpu_device.cc:1406] Created TensorFlow device (/job:localhost/replica:0/task:0/device:GPU:1 with 10839 MB memory) -> physical GPU (device: 1, name: NVIDIA GeForce RTX 3060, pci bus id: 0000:04:00.0, compute capability: 8.6)\n"
     ]
    }
   ],
   "source": [
    "y_hot = tf.one_hot(y, depth=3)"
   ]
  },
  {
   "cell_type": "markdown",
   "id": "b4ae1a16",
   "metadata": {},
   "source": [
    "Dataset splitting: 90% Training, 10% validation"
   ]
  },
  {
   "cell_type": "code",
   "execution_count": 17,
   "id": "b80a8a43",
   "metadata": {},
   "outputs": [],
   "source": [
    "x_train, x_val, y_train, y_val = train_test_split(x, y_hot.numpy(), test_size=0.10)"
   ]
  },
  {
   "cell_type": "markdown",
   "id": "3a8964d8",
   "metadata": {},
   "source": [
    "# Training\n",
    "\n",
    "### Simple DCNN Model:"
   ]
  },
  {
   "cell_type": "code",
   "execution_count": 38,
   "id": "ad6d4040",
   "metadata": {},
   "outputs": [],
   "source": [
    "def create_new_regularized_model():\n",
    "    model = Sequential()\n",
    "    model.add(Conv2D(32, kernel_size=(3, 3), activation='relu', input_shape=(19, 19, 8)))\n",
    "    #model.add(Dropout(0.05))  # Dropout 正則化\n",
    "    model.add(Conv2D(32, kernel_size=(3, 3), activation='relu'))\n",
    "    model.add(Conv2D(64, kernel_size=(3, 3), activation='relu'))\n",
    "    model.add(Conv2D(128, kernel_size=(3, 3), activation='relu'))\n",
    "    #model.add(Dropout(0.3))  # Dropout 正則化\n",
    "    model.add(Flatten())\n",
    "    model.add(Dense(32, activation='relu', kernel_regularizer=l2(0.005)))  # L2 正則化\n",
    "    #model.add(Dropout(0.05))  # Dropout 正則化\n",
    "    model.add(Dense(32, activation='relu', kernel_regularizer=l2(0.005)))  # L2 正則化\n",
    "    #model.add(Dropout(0.2))  # Dropout 正則化\n",
    "    model.add(Dense(32, activation='relu', kernel_regularizer=l2(0.005)))  # L2 正則化\n",
    "    #model.add(Dropout(0.2))  # Dropout 正則化\n",
    "    model.add(Dense(3, activation='softmax'))\n",
    "\n",
    "    opt = RMSprop(learning_rate=0.0003)\n",
    "    model.compile(optimizer=opt, loss='categorical_crossentropy', metrics=['accuracy'])\n",
    "\n",
    "    return model"
   ]
  },
  {
   "cell_type": "code",
   "execution_count": 66,
   "metadata": {},
   "outputs": [
    {
     "ename": "SyntaxError",
     "evalue": "EOF while scanning triple-quoted string literal (3346469464.py, line 49)",
     "output_type": "error",
     "traceback": [
      "\u001b[0;36m  Cell \u001b[0;32mIn[66], line 49\u001b[0;36m\u001b[0m\n\u001b[0;31m    375/375 [==============================] - 2s 5ms/step - loss: 0.5880 - accuracy: 0.8324 - val_loss: 0.9568 - val_accuracy: 0.6600\u001b[0m\n\u001b[0m                                                                                                                                      \n^\u001b[0m\n\u001b[0;31mSyntaxError\u001b[0m\u001b[0;31m:\u001b[0m EOF while scanning triple-quoted string literal\n"
     ]
    }
   ],
   "source": [
    "def create_regularized_model_v2():\n",
    "    model = Sequential()\n",
    "    model.add(Conv2D(64, kernel_size=(3, 3), activation='relu', input_shape=(19, 19, 13)))\n",
    "    model.add(Dropout(0.05))  # 增加了 Dropout 正則化\n",
    "    model.add(Conv2D(128, kernel_size=(3, 3), activation='relu'))\n",
    "    model.add(Dropout(0.05))  # 增加了 Dropout 正則化\n",
    "    model.add(Flatten())\n",
    "    model.add(Dense(64, activation='relu', kernel_regularizer=l2(0.01)))  # 增加了 L2 正則化\n",
    "    model.add(Dropout(0.03))  # 增加了 Dropout 正則化\n",
    "    model.add(Dense(64, activation='relu', kernel_regularizer=l2(0.01)))  # 增加了 L2 正則化\n",
    "    model.add(Dropout(0.02))  # 增加了 Dropout 正則化\n",
    "    model.add(Dense(64, activation='relu', kernel_regularizer=l2(0.01)))  # 增加了 L2 正則化\n",
    "    model.add(Dropout(0.03))  # 增加了 Dropout 正則化\n",
    "    model.add(Dense(3, activation='softmax'))\n",
    "\n",
    "    opt = RMSprop(learning_rate=0.0002)\n",
    "    model.compile(optimizer=opt, loss='categorical_crossentropy', metrics=['accuracy'])\n",
    "\n",
    "    return model\n",
    "\"\"\"Epoch 1/35\n",
    "375/375 [==============================] - 2s 6ms/step - loss: 2.3900 - accuracy: 0.3892 - val_loss: 1.5117 - val_accuracy: 0.4519\n",
    "Epoch 2/35\n",
    "375/375 [==============================] - 2s 5ms/step - loss: 1.4147 - accuracy: 0.4388 - val_loss: 1.3083 - val_accuracy: 0.3937\n",
    "Epoch 3/35\n",
    "375/375 [==============================] - 2s 5ms/step - loss: 1.1603 - accuracy: 0.4590 - val_loss: 1.1029 - val_accuracy: 0.4523\n",
    "Epoch 4/35\n",
    "375/375 [==============================] - 2s 5ms/step - loss: 1.0945 - accuracy: 0.4672 - val_loss: 1.0889 - val_accuracy: 0.4354\n",
    "Epoch 5/35\n",
    "375/375 [==============================] - 2s 5ms/step - loss: 1.0598 - accuracy: 0.4818 - val_loss: 1.1101 - val_accuracy: 0.4230\n",
    "Epoch 6/35\n",
    "375/375 [==============================] - 2s 5ms/step - loss: 1.0404 - accuracy: 0.5010 - val_loss: 1.0456 - val_accuracy: 0.5222\n",
    "Epoch 7/35\n",
    "375/375 [==============================] - 2s 5ms/step - loss: 1.0150 - accuracy: 0.5403 - val_loss: 0.9468 - val_accuracy: 0.6112\n",
    "Epoch 8/35\n",
    "375/375 [==============================] - 2s 5ms/step - loss: 0.9349 - accuracy: 0.6146 - val_loss: 0.9186 - val_accuracy: 0.6150\n",
    "Epoch 9/35\n",
    "375/375 [==============================] - 2s 5ms/step - loss: 0.8938 - accuracy: 0.6337 - val_loss: 0.8812 - val_accuracy: 0.6281\n",
    "Epoch 10/35\n",
    "375/375 [==============================] - 2s 5ms/step - loss: 0.8649 - accuracy: 0.6442 - val_loss: 0.8919 - val_accuracy: 0.6210\n",
    "Epoch 11/35\n",
    "375/375 [==============================] - 2s 5ms/step - loss: 0.8485 - accuracy: 0.6576 - val_loss: 0.8636 - val_accuracy: 0.6450\n",
    "Epoch 12/35\n",
    "375/375 [==============================] - 2s 5ms/step - loss: 0.8321 - accuracy: 0.6623 - val_loss: 0.8727 - val_accuracy: 0.6360\n",
    "Epoch 13/35\n",
    "...\n",
    "Epoch 34/35\n",
    "375/375 [==============================] - 2s 5ms/step - loss: 0.5922 - accuracy: 0.8271 - val_loss: 0.9486 - val_accuracy: 0.6559\n",
    "Epoch 35/35\n",
    "375/375 [==============================] - 2s 5ms/step - loss: 0.5880 - accuracy: 0.8324 - val_loss: 0.9568 - val_accuracy: 0.6600"
   ]
  },
  {
   "cell_type": "code",
   "execution_count": 71,
   "metadata": {},
   "outputs": [],
   "source": [
    "def create_regularized_model_v2():\n",
    "    model = Sequential()\n",
    "    model.add(Conv2D(32, kernel_size=(3, 3), activation='relu', input_shape=(19, 19, 13)))\n",
    "    model.add(Dropout(0.05))  # 增加了 Dropout 正則化\n",
    "    model.add(Conv2D(64, kernel_size=(3, 3), activation='relu'))\n",
    "    model.add(Dropout(0.05))  # 增加了 Dropout 正則化\n",
    "    model.add(Flatten())\n",
    "    model.add(Dense(16, activation='relu', kernel_regularizer=l2(0.01)))  # 增加了 L2 正則化\n",
    "    model.add(Dropout(0.03))  # 增加了 Dropout 正則化\n",
    "    model.add(Dense(32, activation='relu', kernel_regularizer=l2(0.01)))  # 增加了 L2 正則化\n",
    "    model.add(Dropout(0.02))  # 增加了 Dropout 正則化\n",
    "    model.add(Dense(16, activation='relu', kernel_regularizer=l2(0.01)))  # 增加了 L2 正則化\n",
    "    model.add(Dropout(0.03))  # 增加了 Dropout 正則化\n",
    "    model.add(Dense(3, activation='softmax'))\n",
    "\n",
    "    opt = RMSprop(learning_rate=0.0002)\n",
    "    model.compile(optimizer=opt, loss='categorical_crossentropy', metrics=['accuracy'])\n",
    "\n",
    "    return model"
   ]
  },
  {
   "cell_type": "code",
   "execution_count": 72,
   "id": "295280dd",
   "metadata": {},
   "outputs": [
    {
     "name": "stdout",
     "output_type": "stream",
     "text": [
      "Model: \"sequential_14\"\n",
      "_________________________________________________________________\n",
      "Layer (type)                 Output Shape              Param #   \n",
      "=================================================================\n",
      "conv2d_28 (Conv2D)           (None, 17, 17, 32)        3776      \n",
      "_________________________________________________________________\n",
      "dropout_71 (Dropout)         (None, 17, 17, 32)        0         \n",
      "_________________________________________________________________\n",
      "conv2d_29 (Conv2D)           (None, 15, 15, 64)        18496     \n",
      "_________________________________________________________________\n",
      "dropout_72 (Dropout)         (None, 15, 15, 64)        0         \n",
      "_________________________________________________________________\n",
      "flatten_14 (Flatten)         (None, 14400)             0         \n",
      "_________________________________________________________________\n",
      "dense_57 (Dense)             (None, 16)                230416    \n",
      "_________________________________________________________________\n",
      "dropout_73 (Dropout)         (None, 16)                0         \n",
      "_________________________________________________________________\n",
      "dense_58 (Dense)             (None, 32)                544       \n",
      "_________________________________________________________________\n",
      "dropout_74 (Dropout)         (None, 32)                0         \n",
      "_________________________________________________________________\n",
      "dense_59 (Dense)             (None, 16)                528       \n",
      "_________________________________________________________________\n",
      "dropout_75 (Dropout)         (None, 16)                0         \n",
      "_________________________________________________________________\n",
      "dense_60 (Dense)             (None, 3)                 51        \n",
      "=================================================================\n",
      "Total params: 253,811\n",
      "Trainable params: 253,811\n",
      "Non-trainable params: 0\n",
      "_________________________________________________________________\n"
     ]
    }
   ],
   "source": [
    "model = create_regularized_model_v2()\n",
    "model.summary()"
   ]
  },
  {
   "cell_type": "code",
   "execution_count": 73,
   "id": "4c826c0d",
   "metadata": {},
   "outputs": [
    {
     "name": "stdout",
     "output_type": "stream",
     "text": [
      "Epoch 1/15\n",
      "375/375 [==============================] - 2s 3ms/step - loss: 1.5749 - accuracy: 0.3816 - val_loss: 1.3679 - val_accuracy: 0.3618\n",
      "Epoch 2/15\n",
      "375/375 [==============================] - 1s 3ms/step - loss: 1.2823 - accuracy: 0.4208 - val_loss: 1.2430 - val_accuracy: 0.3742\n",
      "Epoch 3/15\n",
      "375/375 [==============================] - 1s 3ms/step - loss: 1.1644 - accuracy: 0.4457 - val_loss: 1.1209 - val_accuracy: 0.4361\n",
      "Epoch 4/15\n",
      "375/375 [==============================] - 1s 3ms/step - loss: 1.1068 - accuracy: 0.4563 - val_loss: 1.1190 - val_accuracy: 0.4271\n",
      "Epoch 5/15\n",
      "375/375 [==============================] - 1s 3ms/step - loss: 1.0744 - accuracy: 0.4663 - val_loss: 1.0827 - val_accuracy: 0.4602\n",
      "Epoch 6/15\n",
      "375/375 [==============================] - 1s 3ms/step - loss: 1.0546 - accuracy: 0.4827 - val_loss: 1.0635 - val_accuracy: 0.4557\n",
      "Epoch 7/15\n",
      "375/375 [==============================] - 1s 3ms/step - loss: 1.0401 - accuracy: 0.4876 - val_loss: 1.0443 - val_accuracy: 0.4639\n",
      "Epoch 8/15\n",
      "375/375 [==============================] - 1s 3ms/step - loss: 1.0300 - accuracy: 0.5042 - val_loss: 1.0398 - val_accuracy: 0.4929\n",
      "Epoch 9/15\n",
      "375/375 [==============================] - 1s 3ms/step - loss: 1.0220 - accuracy: 0.5080 - val_loss: 1.0410 - val_accuracy: 0.5023\n",
      "Epoch 10/15\n",
      "375/375 [==============================] - 1s 3ms/step - loss: 1.0010 - accuracy: 0.5316 - val_loss: 0.9939 - val_accuracy: 0.5263\n",
      "Epoch 11/15\n",
      "375/375 [==============================] - 1s 3ms/step - loss: 0.9527 - accuracy: 0.5864 - val_loss: 0.9280 - val_accuracy: 0.6011\n",
      "Epoch 12/15\n",
      "375/375 [==============================] - 1s 3ms/step - loss: 0.9094 - accuracy: 0.6069 - val_loss: 0.9047 - val_accuracy: 0.6089\n",
      "Epoch 13/15\n",
      "375/375 [==============================] - 1s 3ms/step - loss: 0.8764 - accuracy: 0.6302 - val_loss: 0.8701 - val_accuracy: 0.6255\n",
      "Epoch 14/15\n",
      "375/375 [==============================] - 1s 3ms/step - loss: 0.8542 - accuracy: 0.6421 - val_loss: 0.8790 - val_accuracy: 0.6157\n",
      "Epoch 15/15\n",
      "375/375 [==============================] - 1s 3ms/step - loss: 0.8486 - accuracy: 0.6378 - val_loss: 0.8784 - val_accuracy: 0.6236\n"
     ]
    }
   ],
   "source": [
    "history = model.fit(\n",
    "    x=x_train,\n",
    "    y=y_train,\n",
    "    batch_size=64,\n",
    "    epochs=15,\n",
    "    validation_data=(x_val, y_val)\n",
    ")\n"
   ]
  },
  {
   "cell_type": "code",
   "execution_count": 74,
   "id": "6ed0f073",
   "metadata": {},
   "outputs": [],
   "source": [
    "model.save('./model_playstyle_2.h5')"
   ]
  }
 ],
 "metadata": {
  "kernelspec": {
   "display_name": "Python 3 (ipykernel)",
   "language": "python",
   "name": "python3"
  },
  "language_info": {
   "codemirror_mode": {
    "name": "ipython",
    "version": 3
   },
   "file_extension": ".py",
   "mimetype": "text/x-python",
   "name": "python",
   "nbconvert_exporter": "python",
   "pygments_lexer": "ipython3",
   "version": "3.8.18"
  }
 },
 "nbformat": 4,
 "nbformat_minor": 5
}
