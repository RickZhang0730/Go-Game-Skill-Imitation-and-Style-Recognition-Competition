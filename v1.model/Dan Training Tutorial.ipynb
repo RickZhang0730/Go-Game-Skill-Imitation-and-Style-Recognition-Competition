{
 "cells": [
  {
   "cell_type": "code",
   "execution_count": 1,
   "id": "bb173248",
   "metadata": {},
   "outputs": [
    {
     "name": "stderr",
     "output_type": "stream",
     "text": [
      "2023-11-23 16:23:31.602473: I tensorflow/core/util/port.cc:113] oneDNN custom operations are on. You may see slightly different numerical results due to floating-point round-off errors from different computation orders. To turn them off, set the environment variable `TF_ENABLE_ONEDNN_OPTS=0`.\n",
      "2023-11-23 16:23:31.623461: E external/local_xla/xla/stream_executor/cuda/cuda_dnn.cc:9261] Unable to register cuDNN factory: Attempting to register factory for plugin cuDNN when one has already been registered\n",
      "2023-11-23 16:23:31.623480: E external/local_xla/xla/stream_executor/cuda/cuda_fft.cc:607] Unable to register cuFFT factory: Attempting to register factory for plugin cuFFT when one has already been registered\n",
      "2023-11-23 16:23:31.624124: E external/local_xla/xla/stream_executor/cuda/cuda_blas.cc:1515] Unable to register cuBLAS factory: Attempting to register factory for plugin cuBLAS when one has already been registered\n",
      "2023-11-23 16:23:31.627768: I tensorflow/core/platform/cpu_feature_guard.cc:182] This TensorFlow binary is optimized to use available CPU instructions in performance-critical operations.\n",
      "To enable the following instructions: AVX2 AVX_VNNI FMA, in other operations, rebuild TensorFlow with the appropriate compiler flags.\n",
      "2023-11-23 16:23:32.010381: W tensorflow/compiler/tf2tensorrt/utils/py_utils.cc:38] TF-TRT Warning: Could not find TensorRT\n"
     ]
    }
   ],
   "source": [
    "import tensorflow as tf\n",
    "import numpy as np\n",
    "from sklearn.model_selection import train_test_split\n",
    "from tensorflow.keras.models import Model\n",
    "from tensorflow.keras.layers import Input, Conv2D, MaxPooling2D, Flatten, Dense, Dropout, BatchNormalization, concatenate\n",
    "from tensorflow.keras.optimizers import Adam\n",
    "from tensorflow.keras.regularizers import l2\n",
    "from tensorflow.keras.preprocessing.image import ImageDataGenerator\n",
    "from keras.utils import to_categorical"
   ]
  },
  {
   "cell_type": "code",
   "execution_count": 3,
   "id": "62384345",
   "metadata": {},
   "outputs": [
    {
     "data": {
      "text/plain": [
       "'2.15.0'"
      ]
     },
     "execution_count": 3,
     "metadata": {},
     "output_type": "execute_result"
    }
   ],
   "source": [
    "tf.__version__"
   ]
  },
  {
   "cell_type": "markdown",
   "id": "bd95ed0c",
   "metadata": {},
   "source": [
    "# Data Pre-Processing\n",
    "\n",
    "Open **dan_train.csv** file and split the games into a list.\n",
    "Every row of csv: `DL0000000001,B,B[pd],W[dp],B[pp],W[dc],B[de],...`. \n",
    "\n",
    "Columns are:\n",
    "\n",
    "    1. DL0000000001: Game ID\n",
    "    2. B: Player's color\n",
    "    3-... : Moves\n",
    "    \n",
    "We cropped only the moves to game list as:"
   ]
  },
  {
   "cell_type": "code",
   "execution_count": 2,
   "id": "2f8872fd",
   "metadata": {},
   "outputs": [],
   "source": [
    "df = open('./CSVs/Tutorial_dan_train.csv').read().splitlines()\n",
    "games = [i.split(',',2)[-1] for i in df]"
   ]
  },
  {
   "cell_type": "markdown",
   "id": "58532b01",
   "metadata": {},
   "source": [
    "Create a dictionary to convert the coordinates from characters to numbers"
   ]
  },
  {
   "cell_type": "code",
   "execution_count": 3,
   "id": "496585f2",
   "metadata": {},
   "outputs": [
    {
     "data": {
      "text/plain": [
       "{'a': 0,\n",
       " 'b': 1,\n",
       " 'c': 2,\n",
       " 'd': 3,\n",
       " 'e': 4,\n",
       " 'f': 5,\n",
       " 'g': 6,\n",
       " 'h': 7,\n",
       " 'i': 8,\n",
       " 'j': 9,\n",
       " 'k': 10,\n",
       " 'l': 11,\n",
       " 'm': 12,\n",
       " 'n': 13,\n",
       " 'o': 14,\n",
       " 'p': 15,\n",
       " 'q': 16,\n",
       " 'r': 17,\n",
       " 's': 18}"
      ]
     },
     "execution_count": 3,
     "metadata": {},
     "output_type": "execute_result"
    }
   ],
   "source": [
    "chars = 'abcdefghijklmnopqrs'\n",
    "coordinates = {k:v for v,k in enumerate(chars)}\n",
    "chartonumbers = {k:v for k,v in enumerate(chars)}\n",
    "coordinates"
   ]
  },
  {
   "cell_type": "markdown",
   "id": "92277370",
   "metadata": {},
   "source": [
    "We decided to build a DCNN model in this tutorial. We create data samples by using every move in every game, meaning that the target is to predict the next move by feeding the previous state of the table in every game for every move. Therefore, we can collect much more data samples from games.\n",
    "\n",
    "For the simplicity, we used 4 dimensional feature map to represent the data as below:\n",
    " 1. Positions of black stones: mark them as 1 and the rest of the table as 0\n",
    " 2. Positions of white stones: mark them as 1 and the rest of the table as 0\n",
    " 3. Empty areas of the table: mark the empty areas as 1 and occupied areas as 0\n",
    " 4. The last move in the table: mark the position of the last move as 1 and the rest as 0\n",
    " \n",
    "Target value is a number between 0-361(19\\*19). Later this will be one-hot encoded."
   ]
  },
  {
   "cell_type": "code",
   "execution_count": 4,
   "id": "0adb423c",
   "metadata": {},
   "outputs": [],
   "source": [
    "def prepare_input(moves,board):\n",
    "    x = np.zeros((19,19,4))\n",
    "    for move in moves:\n",
    "        color = move[0]\n",
    "        column = coordinates[move[2]]\n",
    "        row = coordinates[move[3]]\n",
    "        if color == 'B':\n",
    "            x[row,column,0] = 1\n",
    "            x[row,column,2] = 1\n",
    "        if color == 'W':\n",
    "            x[row,column,1] = 1\n",
    "            x[row,column,2] = 1\n",
    "    if moves:\n",
    "        last_move_column = coordinates[moves[-1][2]]\n",
    "        last_move_row = coordinates[moves[-1][3]]\n",
    "        x[row,column,3] = 1\n",
    "    x[:,:,2] = np.where(x[:,:,2] == 0, 1, 0)\n",
    "    return x\n",
    "\n",
    "def prepare_label(move):\n",
    "    column = coordinates[move[2]]\n",
    "    row = coordinates[move[3]]\n",
    "    return column*19+row\n"
   ]
  },
  {
   "cell_type": "code",
   "execution_count": 8,
   "id": "758808ae",
   "metadata": {},
   "outputs": [
    {
     "name": "stdout",
     "output_type": "stream",
     "text": [
      "Total Games: 1280, Total Moves: 297110\n"
     ]
    }
   ],
   "source": [
    "# Check how many samples can be obtained\n",
    "n_games = 0\n",
    "n_moves = 0\n",
    "for game in games:\n",
    "    n_games += 1\n",
    "    moves_list = game.split(',')\n",
    "    for move in moves_list:\n",
    "        n_moves += 1\n",
    "print(f\"Total Games: {n_games}, Total Moves: {n_moves}\")"
   ]
  },
  {
   "cell_type": "markdown",
   "id": "46403360",
   "metadata": {},
   "source": [
    "The code below is run for baseline model only by using only the first 500 games from the dataset. You might need to create a data generator to use complete dataset. Otherwise your RAM might not enough to store all (If you run the code on free version of Google Colab, it will crash above 500 game samples)."
   ]
  },
  {
   "cell_type": "code",
   "execution_count": 5,
   "id": "a9bb0ab0",
   "metadata": {},
   "outputs": [
    {
     "data": {
      "text/plain": [
       "(228448,)"
      ]
     },
     "execution_count": 5,
     "metadata": {},
     "output_type": "execute_result"
    }
   ],
   "source": [
    "def initialize_board():\n",
    "    return np.zeros((19, 19))  # 19x19 的空棋盤，可以是任何你認為合適的初始值\n",
    "\n",
    "# 在原始程式碼中添加此行：\n",
    "x = []\n",
    "y = []\n",
    "for game in games[:1000]:\n",
    "    board = initialize_board()\n",
    "    moves_list = game.split(',')\n",
    "    for count, move in enumerate(moves_list):\n",
    "        x.append(prepare_input(moves_list[:count], board))\n",
    "        y.append(prepare_label(moves_list[count]))\n",
    "x = np.array(x)\n",
    "y = np.array(y)\n",
    "x.shape\n",
    "y.shape\n",
    "# 其餘程式碼保持不變\n"
   ]
  },
  {
   "cell_type": "code",
   "execution_count": 6,
   "id": "5b2392a4",
   "metadata": {},
   "outputs": [
    {
     "data": {
      "text/plain": [
       "(228448, 19, 19, 4)"
      ]
     },
     "execution_count": 6,
     "metadata": {},
     "output_type": "execute_result"
    }
   ],
   "source": [
    "x.shape"
   ]
  },
  {
   "cell_type": "code",
   "execution_count": 7,
   "id": "73521b4f",
   "metadata": {},
   "outputs": [
    {
     "data": {
      "text/plain": [
       "(228448,)"
      ]
     },
     "execution_count": 7,
     "metadata": {},
     "output_type": "execute_result"
    }
   ],
   "source": [
    "y.shape"
   ]
  },
  {
   "cell_type": "code",
   "execution_count": 8,
   "id": "5510a7a6",
   "metadata": {},
   "outputs": [
    {
     "name": "stderr",
     "output_type": "stream",
     "text": [
      "2023-11-23 16:24:00.721327: I external/local_xla/xla/stream_executor/cuda/cuda_executor.cc:901] successful NUMA node read from SysFS had negative value (-1), but there must be at least one NUMA node, so returning NUMA node zero. See more at https://github.com/torvalds/linux/blob/v6.0/Documentation/ABI/testing/sysfs-bus-pci#L344-L355\n",
      "2023-11-23 16:24:00.721472: I external/local_xla/xla/stream_executor/cuda/cuda_executor.cc:901] successful NUMA node read from SysFS had negative value (-1), but there must be at least one NUMA node, so returning NUMA node zero. See more at https://github.com/torvalds/linux/blob/v6.0/Documentation/ABI/testing/sysfs-bus-pci#L344-L355\n",
      "2023-11-23 16:24:00.734703: W tensorflow/core/common_runtime/gpu/gpu_device.cc:2256] Cannot dlopen some GPU libraries. Please make sure the missing libraries mentioned above are installed properly if you would like to use GPU. Follow the guide at https://www.tensorflow.org/install/gpu for how to download and setup the required libraries for your platform.\n",
      "Skipping registering GPU devices...\n"
     ]
    }
   ],
   "source": [
    "y_one_hot = tf.one_hot(y, depth=19*19)"
   ]
  },
  {
   "cell_type": "markdown",
   "id": "78b048ff",
   "metadata": {},
   "source": [
    "Dataset splitting: 90% Training, 10% validation"
   ]
  },
  {
   "cell_type": "code",
   "execution_count": 9,
   "id": "3f594acb",
   "metadata": {},
   "outputs": [],
   "source": [
    "x_train, x_val, y_train, y_val = train_test_split(x, y_one_hot.numpy(), test_size=0.10)"
   ]
  },
  {
   "cell_type": "markdown",
   "id": "7b9c5de9",
   "metadata": {},
   "source": [
    "# Training\n",
    "\n",
    "### Simple DCNN Model:"
   ]
  },
  {
   "cell_type": "code",
   "execution_count": 13,
   "id": "208834da",
   "metadata": {},
   "outputs": [],
   "source": [
    "def create_model():\n",
    "    inputs = Input(shape=(19, 19, 4))\n",
    "\n",
    "    # Convolutional layers without pooling\n",
    "    conv_1 = Conv2D(kernel_size=3, filters=32, padding='same', activation='relu',\n",
    "                     kernel_regularizer=l2(0.01))(inputs)\n",
    "    conv_1 = BatchNormalization()(conv_1)\n",
    "    conv_2 = Conv2D(kernel_size=3, filters=32, padding='same', activation='relu',\n",
    "                     kernel_regularizer=l2(0.01))(conv_1)\n",
    "    conv_2 = BatchNormalization()(conv_2)\n",
    "    \n",
    "    conv_3 = Conv2D(kernel_size=3, filters=32, padding='same', activation='relu',\n",
    "                     kernel_regularizer=l2(0.01))(conv_2)\n",
    "    conv_3 = BatchNormalization()(conv_3)\n",
    "    conv_4 = Conv2D(kernel_size=3, filters=32, padding='same', activation='relu',\n",
    "                     kernel_regularizer=l2(0.01))(conv_3)\n",
    "    conv_4 = BatchNormalization()(conv_4)\n",
    "    \n",
    "    conv_5 = Conv2D(kernel_size=3, filters=16, padding='same', activation='relu',\n",
    "                     kernel_regularizer=l2(0.01))(conv_4)\n",
    "    conv_5 = BatchNormalization()(conv_5)\n",
    "    conv_6 = Conv2D(kernel_size=3, filters=1, padding='same', activation='relu',\n",
    "                     kernel_regularizer=l2(0.01))(conv_5)\n",
    "    conv_6 = BatchNormalization()(conv_6)\n",
    "    conv_6 = Flatten()(conv_6)\n",
    "\n",
    "    # Fully connected layers with dropout\n",
    "    dense_1 = Dense(512, activation='relu')(conv_6)\n",
    "    dropout_1 = Dropout(0.5)(dense_1)\n",
    "    dense_2 = Dense(256, activation='relu')(dropout_1)\n",
    "    dropout_2 = Dropout(0.5)(dense_2)\n",
    "    \n",
    "    # Output layer\n",
    "    outputs = Dense(19*19, activation='softmax')(dropout_2)\n",
    "    \n",
    "    model = Model(inputs, outputs)\n",
    "    \n",
    "    # Optimizer with learning rate scheduling\n",
    "    initial_learning_rate = 0.0001\n",
    "    lr_schedule = tf.keras.optimizers.schedules.ExponentialDecay(\n",
    "        initial_learning_rate, decay_steps=100000, decay_rate=0.96, staircase=True\n",
    "    )\n",
    "    opt = tf.keras.optimizers.RMSprop(learning_rate=lr_schedule)\n",
    "    model.compile(optimizer=opt,\n",
    "                  loss='categorical_crossentropy',\n",
    "                  metrics=['accuracy'])\n",
    "    \n",
    "    return model\n"
   ]
  },
  {
   "cell_type": "code",
   "execution_count": 14,
   "id": "2a66e90d",
   "metadata": {},
   "outputs": [
    {
     "name": "stdout",
     "output_type": "stream",
     "text": [
      "Model: \"model_1\"\n",
      "_________________________________________________________________\n",
      " Layer (type)                Output Shape              Param #   \n",
      "=================================================================\n",
      " input_2 (InputLayer)        [(None, 19, 19, 4)]       0         \n",
      "                                                                 \n",
      " conv2d_6 (Conv2D)           (None, 19, 19, 32)        1184      \n",
      "                                                                 \n",
      " batch_normalization_6 (Bat  (None, 19, 19, 32)        128       \n",
      " chNormalization)                                                \n",
      "                                                                 \n",
      " conv2d_7 (Conv2D)           (None, 19, 19, 32)        9248      \n",
      "                                                                 \n",
      " batch_normalization_7 (Bat  (None, 19, 19, 32)        128       \n",
      " chNormalization)                                                \n",
      "                                                                 \n",
      " conv2d_8 (Conv2D)           (None, 19, 19, 32)        9248      \n",
      "                                                                 \n",
      " batch_normalization_8 (Bat  (None, 19, 19, 32)        128       \n",
      " chNormalization)                                                \n",
      "                                                                 \n",
      " conv2d_9 (Conv2D)           (None, 19, 19, 32)        9248      \n",
      "                                                                 \n",
      " batch_normalization_9 (Bat  (None, 19, 19, 32)        128       \n",
      " chNormalization)                                                \n",
      "                                                                 \n",
      " conv2d_10 (Conv2D)          (None, 19, 19, 16)        4624      \n",
      "                                                                 \n",
      " batch_normalization_10 (Ba  (None, 19, 19, 16)        64        \n",
      " tchNormalization)                                               \n",
      "                                                                 \n",
      " conv2d_11 (Conv2D)          (None, 19, 19, 1)         145       \n",
      "                                                                 \n",
      " batch_normalization_11 (Ba  (None, 19, 19, 1)         4         \n",
      " tchNormalization)                                               \n",
      "                                                                 \n",
      " flatten_1 (Flatten)         (None, 361)               0         \n",
      "                                                                 \n",
      " dense_3 (Dense)             (None, 512)               185344    \n",
      "                                                                 \n",
      " dropout_2 (Dropout)         (None, 512)               0         \n",
      "                                                                 \n",
      " dense_4 (Dense)             (None, 256)               131328    \n",
      "                                                                 \n",
      " dropout_3 (Dropout)         (None, 256)               0         \n",
      "                                                                 \n",
      " dense_5 (Dense)             (None, 361)               92777     \n",
      "                                                                 \n",
      "=================================================================\n",
      "Total params: 443726 (1.69 MB)\n",
      "Trainable params: 443436 (1.69 MB)\n",
      "Non-trainable params: 290 (1.13 KB)\n",
      "_________________________________________________________________\n"
     ]
    }
   ],
   "source": [
    "model = create_model()\n",
    "model.summary()"
   ]
  },
  {
   "cell_type": "code",
   "execution_count": 15,
   "id": "4a4d7f1c",
   "metadata": {},
   "outputs": [
    {
     "name": "stdout",
     "output_type": "stream",
     "text": [
      "Epoch 1/20\n",
      "1607/1607 [==============================] - 45s 27ms/step - loss: 6.8238 - accuracy: 0.0057 - val_loss: 6.3888 - val_accuracy: 0.0101\n",
      "Epoch 2/20\n",
      "1607/1607 [==============================] - 44s 27ms/step - loss: 6.0347 - accuracy: 0.0164 - val_loss: 5.2589 - val_accuracy: 0.0476\n",
      "Epoch 3/20\n",
      "1607/1607 [==============================] - 44s 27ms/step - loss: 5.0446 - accuracy: 0.0474 - val_loss: 4.6080 - val_accuracy: 0.0692\n",
      "Epoch 4/20\n",
      "1607/1607 [==============================] - 44s 27ms/step - loss: 4.6056 - accuracy: 0.0696 - val_loss: 4.2620 - val_accuracy: 0.1100\n",
      "Epoch 5/20\n",
      "1607/1607 [==============================] - 44s 27ms/step - loss: 4.3702 - accuracy: 0.0987 - val_loss: 4.2106 - val_accuracy: 0.1462\n",
      "Epoch 6/20\n",
      "1607/1607 [==============================] - 44s 27ms/step - loss: 4.2187 - accuracy: 0.1299 - val_loss: 3.9935 - val_accuracy: 0.2046\n",
      "Epoch 7/20\n",
      "1607/1607 [==============================] - 44s 27ms/step - loss: 4.0871 - accuracy: 0.1713 - val_loss: 3.8668 - val_accuracy: 0.2548\n",
      "Epoch 8/20\n",
      "1607/1607 [==============================] - 44s 27ms/step - loss: 3.9718 - accuracy: 0.2180 - val_loss: 3.7377 - val_accuracy: 0.3011\n",
      "Epoch 9/20\n",
      "1607/1607 [==============================] - 44s 27ms/step - loss: 3.8631 - accuracy: 0.2586 - val_loss: 3.6415 - val_accuracy: 0.3272\n",
      "Epoch 10/20\n",
      "1607/1607 [==============================] - 44s 27ms/step - loss: 3.7779 - accuracy: 0.2884 - val_loss: 3.5757 - val_accuracy: 0.3438\n",
      "Epoch 11/20\n",
      "1607/1607 [==============================] - 44s 27ms/step - loss: 3.7098 - accuracy: 0.3072 - val_loss: 3.5912 - val_accuracy: 0.3477\n",
      "Epoch 12/20\n",
      "1607/1607 [==============================] - 44s 27ms/step - loss: 3.6555 - accuracy: 0.3196 - val_loss: 3.5163 - val_accuracy: 0.3543\n",
      "Epoch 13/20\n",
      "1607/1607 [==============================] - 44s 27ms/step - loss: 3.6095 - accuracy: 0.3309 - val_loss: 3.4449 - val_accuracy: 0.3600\n",
      "Epoch 14/20\n",
      "1607/1607 [==============================] - 44s 27ms/step - loss: 3.5716 - accuracy: 0.3380 - val_loss: 3.4213 - val_accuracy: 0.3704\n",
      "Epoch 15/20\n",
      "1607/1607 [==============================] - 44s 27ms/step - loss: 3.5329 - accuracy: 0.3446 - val_loss: 3.3668 - val_accuracy: 0.3767\n",
      "Epoch 16/20\n",
      "1607/1607 [==============================] - 44s 27ms/step - loss: 3.5070 - accuracy: 0.3490 - val_loss: 3.3595 - val_accuracy: 0.3737\n",
      "Epoch 17/20\n",
      "1607/1607 [==============================] - 44s 27ms/step - loss: 3.4781 - accuracy: 0.3555 - val_loss: 3.3603 - val_accuracy: 0.3788\n",
      "Epoch 18/20\n",
      "1607/1607 [==============================] - 44s 27ms/step - loss: 3.4562 - accuracy: 0.3588 - val_loss: 3.3332 - val_accuracy: 0.3807\n",
      "Epoch 19/20\n",
      "1607/1607 [==============================] - 44s 27ms/step - loss: 3.4307 - accuracy: 0.3631 - val_loss: 3.3085 - val_accuracy: 0.3818\n",
      "Epoch 20/20\n",
      "1607/1607 [==============================] - 44s 27ms/step - loss: 3.4144 - accuracy: 0.3649 - val_loss: 3.2995 - val_accuracy: 0.3878\n"
     ]
    }
   ],
   "source": [
    "history = model.fit(\n",
    "    x=x_train,\n",
    "    y=y_train,\n",
    "    batch_size=128,\n",
    "    epochs=20,\n",
    "    validation_data=(x_val, y_val)\n",
    ")"
   ]
  },
  {
   "cell_type": "code",
   "execution_count": 16,
   "id": "2aaddf0b",
   "metadata": {},
   "outputs": [
    {
     "name": "stderr",
     "output_type": "stream",
     "text": [
      "/home/ttsai/miniconda3/lib/python3.11/site-packages/keras/src/engine/training.py:3103: UserWarning: You are saving your model as an HDF5 file via `model.save()`. This file format is considered legacy. We recommend using instead the native Keras format, e.g. `model.save('my_model.keras')`.\n",
      "  saving_api.save_model(\n"
     ]
    }
   ],
   "source": [
    "model.save('./model_dan_tutorial.h5')"
   ]
  },
  {
   "cell_type": "markdown",
   "id": "484be28d",
   "metadata": {},
   "source": [
    "## ALL DONE!\n",
    "\n",
    "For using the model and creating a submission file, follow the notebook **Create Public Upload CSV.ipynb**"
   ]
  },
  {
   "cell_type": "markdown",
   "id": "2f7fafaa",
   "metadata": {},
   "source": [
    "# End of Tutorial\n",
    "\n",
    "You are free to use more modern NN architectures, a better pre-processing, feature extraction methods to achieve much better accuracy!"
   ]
  },
  {
   "cell_type": "code",
   "execution_count": null,
   "id": "050b4672",
   "metadata": {},
   "outputs": [],
   "source": []
  }
 ],
 "metadata": {
  "kernelspec": {
   "display_name": "Python 3 (ipykernel)",
   "language": "python",
   "name": "python3"
  },
  "language_info": {
   "codemirror_mode": {
    "name": "ipython",
    "version": 3
   },
   "file_extension": ".py",
   "mimetype": "text/x-python",
   "name": "python",
   "nbconvert_exporter": "python",
   "pygments_lexer": "ipython3",
   "version": "3.11.4"
  }
 },
 "nbformat": 4,
 "nbformat_minor": 5
}
